{
 "cells": [
  {
   "cell_type": "code",
   "execution_count": 1,
   "metadata": {},
   "outputs": [
    {
     "data": {
      "application/vnd.jupyter.widget-view+json": {
       "model_id": "eb09e9e6d2f04ecaa9f21d73bb10860b",
       "version_major": 2,
       "version_minor": 0
      },
      "text/plain": [
       "Loading checkpoint shards:   0%|          | 0/7 [00:00<?, ?it/s]"
      ]
     },
     "metadata": {},
     "output_type": "display_data"
    },
    {
     "name": "stdout",
     "output_type": "stream",
     "text": [
      "你好👋！我是人工智能助手 ChatGLM3-6B，很高兴见到你，欢迎问我任何问题。\n",
      "晚上睡不着时，你可以尝试以下方法：\n",
      "\n",
      "1. 保持冷静：尽量放松，不要焦虑或担心失眠问题。\n",
      "\n",
      "2. 改变环境：调整房间的温度、光线、声音等，创造一个适宜睡眠的环境。\n",
      "\n",
      "3. 活动身体：进行一些轻松的活动，如深呼吸、瑜伽、散步等，帮助身体放松，促进入眠。\n",
      "\n",
      "4. 限制刺激物：避免饮用咖啡、茶、可乐等含有咖啡因的饮料，避免 smoking、喝酒，这些会影响睡眠质量。\n",
      "\n",
      "5. 规律作息：尽量保持规律的作息时间，每天按时上床睡觉和起床，帮助身体建立良好的作息规律。\n",
      "\n",
      "6. 放松身心：在睡前进行一些放松活动，如阅读、听音乐等，可以帮助缓解压力，促进入眠。\n",
      "\n",
      "如果长时间睡不着或睡眠质量不佳，建议咨询医生或专业心理咨询师，获得更好的帮助。\n"
     ]
    }
   ],
   "source": [
    "from transformers import set_seed\n",
    "from transformers import AutoTokenizer, AutoModel\n",
    "set_seed(42)\n",
    "tokenizer = AutoTokenizer.from_pretrained(\"/share/lilin/chatglm3-6b\", trust_remote_code=True)\n",
    "model = AutoModel.from_pretrained(\"/share/lilin/chatglm3-6b\", trust_remote_code=True, device='cuda')\n",
    "model = model.eval()\n",
    "response, history = model.chat(tokenizer, \"你好\", history=[])\n",
    "print(response)\n",
    "\n",
    "response, history = model.chat(tokenizer, \"晚上睡不着应该怎么办\", history=history)\n",
    "print(response)\n"
   ]
  },
  {
   "cell_type": "code",
   "execution_count": 2,
   "metadata": {},
   "outputs": [
    {
     "name": "stdout",
     "output_type": "stream",
     "text": [
      "华为近期发布的新款手机包括:\n",
      "\n",
      "1. 华为Mate 40 Pro:该手机搭载了华为自主研发的麒麟9000芯片,拥有8GB/12GB RAM和128GB/256GB/512GB存储容量,配备了6.76英寸的OLED屏幕,分辨率为2772×1224像素,支持90Hz刷新率。此外,该手机还配备了5000mAh电池,支持快速充电和无线充电,并配备了多个摄像头,包括一个50MP主摄像头、一个20MP超广角镜头和一个12MP长焦镜头。\n",
      "\n",
      "2. 华为nova 8 Pro:该手机搭载了麒麟9000芯片,拥有8GB/12GB RAM和128GB/256GB存储容量,配备了6.57英寸的OLED屏幕,分辨率为2340×1080像素,支持90Hz刷新率。此外,该手机还配备了4500mAh电池,支持快速充电和无线充电,并配备了一个16MP前置摄像头和多个后置摄像头,包括一个64MP主摄像头、一个12MP超广角镜头和一个8MP长焦镜头。\n",
      "\n",
      "3. 华为P40 Pro:该手机搭载了麒麟9000芯片,拥有8GB/12GB RAM和128GB/256GB/512GB存储容量,配备了6.58英寸的OLED屏幕,分辨率为2772×1224像素,支持90Hz刷新率。此外,该手机还配备了4500mAh电池,支持快速充电和无线充电,并配备了一个40MP前置摄像头和多个后置摄像头,包括一个50MP主摄像头、一个12MP超广角镜头和一个10MP长焦镜头。\n",
      "\n",
      "以上是华为近期发布的一些新款手机,它们都搭载了麒麟9000芯片,并配备了多个摄像头和出色的屏幕。\n"
     ]
    }
   ],
   "source": [
    "response, history = model.chat(tokenizer, \"请介绍一下华为最新的手机产品\", history=[], temperature=0.001)\n",
    "print(response)"
   ]
  },
  {
   "cell_type": "code",
   "execution_count": 14,
   "metadata": {},
   "outputs": [],
   "source": [
    "import json\n",
    "import sys\n",
    "\n",
    "folder = '/share/lilin/ReAct/prompts/'\n",
    "prompt_file = 'prompts_naive.json'\n",
    "with open(folder + prompt_file, 'r') as f:\n",
    "    prompt_dict = json.load(f)\n",
    "\n",
    "webthink_examples = prompt_dict['webthink_simple6']\n",
    "instruction = \"\"\"Solve a question answering task with interleaving Thought, Action, Observation steps. Thought can reason about the current situation, and Action can be three types: \n",
    "(1) 搜索[entity], which searches the exact entity on Wikipedia and returns the first paragraph if it exists. If not, it will return some similar entities to search.\n",
    "(2) 查找[keyword], which returns the next sentence containing keyword in the current passage.\n",
    "(3) 完成[answer], which returns the answer and finishes the task.\n",
    "Here are some examples.\n",
    "\"\"\"\n",
    "# webthink_prompt = instruction + webthink_examples\n",
    "\n",
    "# webthink_example_s_list = webthink_examples.strip().split(\"\\nQuestion:\")\n",
    "# webthink_example_s = webthink_example_s_list[0] + webthink_example_s_list[1] + webthink_example_s_list[2]\n",
    "# webthink_prompt_s = instruction + webthink_example_s"
   ]
  },
  {
   "cell_type": "code",
   "execution_count": 71,
   "metadata": {},
   "outputs": [],
   "source": [
    "instruction = \"\"\"Solve a question answering task with interleaving Thought, Action, Observation steps. Thought can reason about the current situation, and Action can be three types: \n",
    "(1) 搜索[entity], which searches the exact entity on Wikipedia and returns the first paragraph if it exists. If not, it will return some similar entities to search.\n",
    "(2) 查找[keyword], which returns the next sentence containing keyword in the current passage.\n",
    "(3) 完成[answer], which returns the answer and finishes the task.\n",
    "Here are some examples.\n",
    "\"\"\"\n",
    "\n",
    "instruction_ch = \"\"\"使用多轮的<Thought, Action, Observation>的步骤范式来回答之后的问题。Thought进行推理分析为了回答任务你需要执行的操作，以及是否已经可以回答任务；Action提炼你需要执行的操作，他有三种模式：\n",
    "(1) 搜索[关键词]：从网络上搜索关键词并且返回第一个搜索结果的内容；\n",
    "(2) 查找[关键词]：从网络上搜索关键词并且返回第一个搜索结果的内容；\n",
    "(3) 完成[最终回答]：生成最终的回答。\n",
    "下面是一些例子：\n",
    "\"\"\"\n",
    "\n",
    "\n",
    "example_ch = \"\"\"\n",
    "例1：\n",
    "Question: 科罗拉多造山带东段延伸到的地区的海拔范围是多少？\n",
    "Thoughts: 我需要搜索科罗拉多造山带，找到科罗拉多造山带东段延伸到的区域，然后找到该区域的海拔范围。\n",
    "Action: 搜索[科罗拉多造山运动]\n",
    "Observation: 科罗拉多造山运动是科罗拉多州及其周边地区造山运动的一个阶段。\n",
    "Thoughts: 它没有提到东部地区。所以我需要看看东部地区。\n",
    "Action: 查找[东区]\n",
    "Observation: （结果1/1）东段延伸到高平原，称为中原造山运动。\n",
    "Thoughts: 科罗拉多造山运动的东部延伸到高平原。所以我需要搜索高平原，找到它的海拔范围。\n",
    "Action: 搜索[高地]\n",
    "Observation: 高平原是指两个不同的陆地区域之一: \n",
    "Thoughts: 我需要搜索高平原（美国）。\n",
    "Action: 搜索[高平原（美国）]\n",
    "Observation: 高平原是大平原的一个子区域。从东到西，高平原的海拔从1800到7000英尺（550到2130米）。[3]\n",
    "Thoughts: 高平原的海拔从1800英尺到7000英尺左右，所以答案是1800到7000英尺。\n",
    "Action: 完成[1800至7000英尺]\n",
    "\n",
    "例2：\n",
    "Question: 音乐家兼讽刺作家Allie Goertz写了一首关于《辛普森一家》中角色Milhouse的歌，Matt Groening以谁的名字命名了Milhouse？\n",
    "Thoughts: 这个Question简化为《辛普森一家》中的角色米尔豪斯是以谁的名字命名的。我只需要搜索米尔豪斯并找到它的名字。\n",
    "Action: 搜索[Milhouse]\n",
    "Observation: 米尔豪斯·墨索里尼·范·豪滕是福克斯动画电视剧《辛普森一家》中的一个反复出现的角色，由帕梅拉·海登配音，马特·格罗宁创作。\n",
    "Thoughts: 这段话没有告诉米尔豪斯是以谁的名字命名的，也许我可以查一下“以谁的名义命名”。\n",
    "Action: 查找[命名]\n",
    "Observation: （结果1/1）米尔豪斯是以美国总统理查德·尼克松的名字命名的，他的中间名是米尔豪斯。\n",
    "Thoughts: 米尔豪斯是以美国总统理查德·尼克松的名字命名的，所以答案是理查德·尼克松。\n",
    "Action: 完成[理查德·尼克松]\n",
    "\n",
    "例3：\n",
    "Question: 哪部纪录片是关于芬兰摇滚团体的，Adam Clayton Powell还是The Saimaa Gesture？\n",
    "Thoughts: 我需要搜索Adam Clayton Powell和The Saimaa Gesture，找到哪部纪录片是关于芬兰摇滚团体的。\n",
    "Action: 搜索[Adam Clayton Powell]\n",
    "Observation: 找不到[Adam Clayton Powell]。类似: [《亚当·克莱顿·鲍威尔三世》、《第七大道（曼哈顿）》、《小亚当·克莱顿·鲍威尔国家办公楼》、《伊莎贝尔·华盛顿·鲍威尔》、《亚当·鲍威尔》、“亚当·克莱顿·鲍威尔（电影）”、《吉安卡洛·埃斯波西托》]。\n",
    "Thoughts: 要找到纪录片，我可以搜索Adam Clayton Powell（电影）。\n",
    "Action: 搜索[Adam Clayton Powell（电影）]\n",
    "Observation: 亚当·克莱顿·鲍威尔是一部1989年的美国纪录片，由理查德·基尔伯格执导。这部电影讲述了有影响力的非裔美国政治家小亚当·克莱顿·鲍威尔的兴衰。[3][4]后来作为PBS电视剧《美国经历》的一部分播出。\n",
    "Thoughts: Adam Clayton Powell（电影）是一部关于非裔美国政治家的纪录片，而不是芬兰摇滚团体。因此，关于芬兰摇滚团体的纪录片必须是The Saimaa Gesture。\n",
    "Action: 完成[The Saimaa Gesture]\n",
    "\n",
    "上面是一些例子，下面的回答中，一定不要涉及其中的具体内容，只要效仿上面的格式和思考方法。\n",
    "注意：每次回答只需要输出一条Thought信息和一条Action信息，当你觉得内容够生成输出了，就做个总结，并且在Action中使用标识符“完成”。\n",
    "\n",
    "\"\"\"\n",
    "# 注意：\n",
    "# 1. Thought中的格式：你的想法；\n",
    "# 2. Action中的格式：一定是搜索, 查找, 回答之一加上[（对象）]；\n",
    "prompt_ch = instruction_ch + example_ch"
   ]
  },
  {
   "cell_type": "code",
   "execution_count": 38,
   "metadata": {},
   "outputs": [],
   "source": [
    "def search_ddgs(keyword):\n",
    "    from duckduckgo_search import DDGS\n",
    "    content = DDGS().text(keyword, region=\"cn-zh\", max_results=1).__next__()\n",
    "\n",
    "    print(\"+\"*15, \"ddgs搜索结果\", \"+\"*15)\n",
    "    print(content['title'])\n",
    "    print(\"+\"*40)\n",
    "\n",
    "    return content['body'], False\n",
    "    \n",
    "def finish(answer):\n",
    "    return answer, True\n"
   ]
  },
  {
   "cell_type": "code",
   "execution_count": 2,
   "metadata": {},
   "outputs": [
    {
     "name": "stdout",
     "output_type": "stream",
     "text": [
      "+++++++++++++++ ddgs搜索结果 +++++++++++++++\n",
      "傅里叶变换 - 维基百科，自由的百科全书\n",
      "++++++++++++++++++++++++++++++++++++++++\n"
     ]
    },
    {
     "data": {
      "text/plain": [
       "('[1] 经过傅里叶变换生成的函数 称作原函数 的傅里叶变换，应用意义上称作 频谱 。 在特定情況下，傅里叶变换是可逆的，即将 通过逆变换可以得到其原函数 。 通常情况下， 是一个 实函数 ，而 则是一个 复数 值函数，其函数值作为复数可同时表示 振幅 和 相位 。 高斯函数 是傅里叶变换的 本征函数 。 定义 一般情况下，若「傅里叶变换」一词不加任何限定语，则指的是「连续傅里叶变换」（连续函数的傅里叶变换）。 定义傅里叶变换有许多不同的方式。 本文中采用如下的定义：（连续）傅里叶变换将 可积 函数 表示成复指数函数的积分形式或级数形式。 ， 为任意 实数 。 的定义域为频域。 若约定自变量 表示 时间 （以秒为单位），变换变量 表示 频率 （以 赫兹 为单位）。',\n",
       " False)"
      ]
     },
     "execution_count": 2,
     "metadata": {},
     "output_type": "execute_result"
    }
   ],
   "source": [
    "search_ddgs(\"傅里叶变换\")"
   ]
  },
  {
   "cell_type": "code",
   "execution_count": 90,
   "metadata": {},
   "outputs": [],
   "source": [
    "def webthink_single_round_multi_agents(question=None, inst_prompt=prompt_ch, to_print=True):\n",
    "    if to_print:\n",
    "        print(\"Question: \", question)\n",
    "    prompt = \"Question: \" + question\n",
    "    n_calls, n_badcalls = 0, 0\n",
    "    inner_history = [{'role':'system', 'content':inst_prompt}]\n",
    "    for i in range(3):\n",
    "        n_calls += 1\n",
    "        # thought_action = llm(prompt + f\"Thought {i}:\", stop=[f\"\\nObservation {i}:\"])\n",
    "        response, inner_history = model.chat(tokenizer, prompt + \"Thought: \", history=inner_history, temperature=0.001)\n",
    "        print(i, \"=\"*15, \"LLM输出结果\", \"=\"*15)\n",
    "        print(f\"Thought: \", response)\n",
    "        print(\"=\"*40)\n",
    "        try:\n",
    "            # thought, action = thought_action.strip().split(f\"\\nAction {i}: \")\n",
    "            thought, action = response.strip().split(f\"\\nAction:\")\n",
    "        except:\n",
    "            print('回答格式出错1', response)\n",
    "            n_badcalls += 1\n",
    "            n_calls += 1\n",
    "            thought = response.strip().split('\\n')[0]\n",
    "            # action = llm(prompt + f\"Thought {i}: {thought}\\nAction {i}:\", stop=[f\"\\n\"]).strip()\n",
    "            response, inner_history = model.chat(tokenizer, prompt + f\"Thought {i}: {thought}\\nAction {i}: \", history=inner_history, temperature=0.001)\n",
    "            action = response.strip()\n",
    "\n",
    "        if(\"搜索\" in action):\n",
    "            obs, done = search_ddgs(action.strip().split(\"搜索\")[1].strip(\" []（）()\"))\n",
    "        elif(\"查找\" in action):\n",
    "            obs, done = search_ddgs(action.strip().split(\"查找\")[1].strip(\" []（）()\"))\n",
    "        elif(\"完成\" in action):\n",
    "            obs, done = finish(action.strip().split(\"回答\")[1].strip(\" []（）()\"))\n",
    "        else:\n",
    "            break\n",
    "\n",
    "        # obs, r, done, info = step(env, action[0].lower() + action[1:])\n",
    "        obs = obs.replace('\\\\n', '')\n",
    "        inner_history.append({'role':'observation', 'content':obs})\n",
    "        # obs_prompt = f\"Observation: {obs}\\n\"\n",
    "        # prompt += step_str\n",
    "        # print(\"#\"*20, len(obs_prompt))\n",
    "        if to_print:\n",
    "            print(f\"Observation: {obs}\\n\")\n",
    "        if done:\n",
    "            print(\"DDOONNEE\")\n",
    "            r = obs\n",
    "            break\n",
    "        prompt = 'Thought: '\n",
    "        # history = history1\n",
    "    \n",
    "    _, h_raw = model.chat(tokenizer, question, history=[], temperature=0.001)\n",
    "    h_raw[0]['content'] = \"只使用llm思考这个问题的答案是：\"\n",
    "    inner_history += h_raw\n",
    "    r, _ = model.chat(tokenizer, f\"总结上面搜索到的内容和llm思考的内容，回答问题：{question}\", history=inner_history[1:], temperature=0.001)\n",
    "\n",
    "        # 总结\n",
    "    # if not done:\n",
    "    #     obs, r, done, info = step(env, \"finish[]\")\n",
    "    # if to_print:\n",
    "    #     print(info, '\\n')\n",
    "    # info.update({'n_calls': n_calls, 'n_badcalls': n_badcalls, 'traj': prompt})\n",
    "    return r"
   ]
  },
  {
   "cell_type": "code",
   "execution_count": 91,
   "metadata": {},
   "outputs": [
    {
     "name": "stdout",
     "output_type": "stream",
     "text": [
      "Question:  请介绍一下华为最新款的手机\n",
      "0 =============== LLM输出结果 ===============\n",
      "Thought:  Thought: 华为最新款的手机可能是华为Mate 50。我将搜索有关华为Mate 50的信息。\n",
      "Action: 搜索[华为Mate 50]\n",
      "========================================\n",
      "+++++++++++++++ ddgs搜索结果 +++++++++++++++\n",
      "HUAWEI Mate 50 - 华为官网\n",
      "++++++++++++++++++++++++++++++++++++++++\n",
      "Observation: HUAWEI Mate 50 搭载全新华为 XMAGE 超光变影像系统，超大光圈，夜景眼前一亮；物理光圈十挡可调，亚毫米级人像虚化。 XMAGE 影像风格献上真实、沁润、通透、有呼吸感的影像。 首款支持北斗卫星消息的华为手机，地面无信号时仍能发送卫星消息，安心畅连。 华为昆仑玻璃，坚若磐石；鸿蒙操作系统 3.0，持久流畅，个性高效，隐私安全再升级。 HUAWEI Mate 50 - 华为官网 HUAWEI Mate 50 我们使用cookie来确保您的高速浏览体验。 继续浏览本站，即表示您同意我们使用cookie。 详情 消费者业务网站 关闭 个人用户 手机，PC和平板，穿戴设备等个人及家用产品 集团网站 公司信息，社会责任，新闻，展会活动，行业洞察等等 企业用户\n",
      "\n",
      "1 =============== LLM输出结果 ===============\n",
      "Thought:  Thought: 华为Mate 50 具有强大的影像系统和鸿蒙操作系统，是一款非常先进的手机。\n",
      "========================================\n",
      "回答格式出错1 Thought: 华为Mate 50 具有强大的影像系统和鸿蒙操作系统，是一款非常先进的手机。\n",
      "+++++++++++++++ ddgs搜索结果 +++++++++++++++\n",
      "华为Mate50的1个致命缺点和6个值得购买的理由总结 - 知乎\n",
      "++++++++++++++++++++++++++++++++++++++++\n",
      "Observation: 而\"HUAWEI Mate 50\"采用的全新\"昆仑玻璃\"可以大幅提升屏幕的耐摔能力，降低了屏幕碎裂的几率，一定程度就避免了昂贵的维修费。 是不是很值？ 所以我把它作为第二个购买理由。 但要注意搭配昆仑玻璃的配置比普通款贵200，这就要看您觉得用200元换一个更耐摔的屏幕值不值了。 购买的理由31%电量应急模式。 出门最怕什么，不是没带钱包，而是没带手机或者手机没电。 这个\"应急模式\"可以在电池电量还剩1%的时候实现12分钟通话、10次显示二维码或者4次扫码。 不用4次，只要还能有1次扫码的机会你就可以找个共享充电宝给手机充电。 在紧急时刻，这个功能就会体现出它的价值。 没错，又是一个平时用不到的功能，但关键时刻却能发挥极大的用处。\n",
      "\n",
      "2 =============== LLM输出结果 ===============\n",
      "Thought:  Thought: 华为Mate 50的“昆仑玻璃”和“应急模式”都是很出色的特性，提高了手机的使用体验和实用性。\n",
      "========================================\n",
      "回答格式出错1 Thought: 华为Mate 50的“昆仑玻璃”和“应急模式”都是很出色的特性，提高了手机的使用体验和实用性。\n",
      "华为最新款的手机是华为Mate 40 Pro。它采用了6.76英寸的OLED环绕屏，分辨率高达2772×1224像素，支持HDR10+和120Hz刷新率。该屏幕还具有90Hz的触控采样率，操作流畅度非常高。\n",
      "\n",
      "华为Mate 40 Pro搭载了麒麟9000芯片，这是华为自家研发的一款5G SoC芯片，性能非常强大。该芯片还支持5G网络，使得手机在网络速度和延迟方面表现出色。\n",
      "\n",
      "相机方面，华为Mate 40 Pro配备了四个摄像头，包括一颗5000万像素的主摄像头、一颗2000万像素的超广角摄像头、一颗1200万像素的潜望式长焦镜头和一颗1200万像素的ToF镜头。这些摄像头可以实现2倍光学变焦、10倍数码变焦以及20倍数码变焦，支持AI智能识景和AI智能拍照，可以自动识别场景并调整参数以获得更好的拍照效果。\n",
      "\n",
      "此外，华为Mate 40 Pro还具有5000毫安时的大电池，支持66W有线快充和50W无线快充，可以保证长时间的使用。该手机还具有IP68级防水防尘功能，可以在一些恶劣的环境下正常使用。\n",
      "\n",
      "总之，华为Mate 40 Pro是一款功能强大、性能卓越的旗舰手机，适合那些需要强大性能和高清摄像的用户。\n"
     ]
    }
   ],
   "source": [
    "query = \"请介绍一下华为最新款的手机\"\n",
    "# \n",
    "# response, history = model.chat(tokenizer, prompt_ch + query + \"\\nThought 1: \", history=history, temperature=0.001)\n",
    "r = webthink_single_round_multi_agents(query)\n",
    "print(r)"
   ]
  },
  {
   "cell_type": "code",
   "execution_count": 84,
   "metadata": {},
   "outputs": [],
   "source": [
    "def webthink_multi_rounds_single_agent(question, history, inst_prompt=prompt_ch, to_print=True):\n",
    "    if to_print:\n",
    "        print(\"Question: \", question)\n",
    "    prompt = \"Question: \" + question\n",
    "    # n_calls, n_badcalls = 0, 0\n",
    "    obs = \"\"\n",
    "    inner_history = [{'role':'system', 'content':inst_prompt}] + history\n",
    "    # n_calls += 1\n",
    "    # thought_action = llm(prompt + f\"Thought {i}:\", stop=[f\"\\nObservation {i}:\"])\n",
    "    response, inner_history = model.chat(tokenizer, prompt + \"Thought: \", history=inner_history, temperature=0.001)\n",
    "    print(\"=\"*15, \"LLM输出结果\", \"=\"*15)\n",
    "    print(f\"Thought: \", response)\n",
    "    print(\"=\"*40)\n",
    "    try:\n",
    "        # thought, action = thought_action.strip().split(f\"\\nAction {i}: \")\n",
    "        thought, action = response.strip().split(f\"\\nAction:\")\n",
    "    except:\n",
    "        print('回答格式出错1', response)\n",
    "        # n_badcalls += 1\n",
    "        # n_calls += 1\n",
    "        thought = response.strip().split('\\n')[0]\n",
    "        # action = llm(prompt + f\"Thought {i}: {thought}\\nAction {i}:\", stop=[f\"\\n\"]).strip()\n",
    "        response, inner_history = model.chat(tokenizer, prompt + f\"Thought: {thought}\\nAction: \", history=history, temperature=0.001)\n",
    "        action = response.strip()\n",
    "\n",
    "    if(\"搜索\" in action):\n",
    "        obs, done = search_ddgs(action.strip().split(\"搜索\")[1].strip(\" []（）()\"))\n",
    "    elif(\"查找\" in action):\n",
    "        obs, done = search_ddgs(action.strip().split(\"查找\")[1].strip(\" []（）()\"))\n",
    "    else:\n",
    "        r, h  = model.chat(tokenizer, question, history=history, temperature=0.001)\n",
    "        return r, h\n",
    "\n",
    "    # obs, r, done, info = step(env, action[0].lower() + action[1:])\n",
    "    obs = obs.replace('\\\\n', '')\n",
    "    inner_history.append({'role':'observation', 'content':obs})\n",
    "\n",
    "    step_str = f\"Thought {i}: {thought}\\nAction {i}: {action}\\nObservation {i}: {obs}\\n\"\n",
    "    # prompt += step_str\n",
    "    # print(\"#\"*20, len(prompt))\n",
    "    if to_print:\n",
    "        print(f\"Observation: {obs}\\n\")\n",
    "    if done:\n",
    "        print(\"DDOONNEE\")\n",
    "        r = obs\n",
    "\n",
    "    _, h_raw = model.chat(tokenizer, question, history=[], temperature=0.001)\n",
    "    h_raw[0]['content'] = \"只使用llm思考这个问题的答案是：\"\n",
    "    inner_history += h_raw\n",
    "\n",
    "    summary_prompt = \"参考以下的搜索结果回答问题：\\n\"\n",
    "    r, h = model.chat(tokenizer, f\"总结上面搜索到的内容和llm思考的内容，回答问题： {question}\", history=inner_history, temperature=0.001)\n",
    "    # if not done:\n",
    "    #     obs, r, done, info = step(env, \"finish[]\")\n",
    "    # if to_print:\n",
    "    #     print(info, '\\n')\n",
    "    # info.update({'n_calls': n_calls, 'n_badcalls': n_badcalls, 'traj': prompt})\n",
    "    return r, h"
   ]
  },
  {
   "cell_type": "code",
   "execution_count": 58,
   "metadata": {},
   "outputs": [],
   "source": [
    "a = [1]\n",
    "a.insert(0,2)"
   ]
  },
  {
   "cell_type": "code",
   "execution_count": 87,
   "metadata": {},
   "outputs": [
    {
     "name": "stdout",
     "output_type": "stream",
     "text": [
      "Question:  你好\n",
      "=============== LLM输出结果 ===============\n",
      "Thought:  Thought: 你好，请问有什么我可以帮助你的吗？\n",
      "========================================\n",
      "回答格式出错1 Thought: 你好，请问有什么我可以帮助你的吗？\n",
      "0 @@@@@@@@@@@@@@@@@@@@@@@@@@@@@@\n",
      "question: 你好\n",
      "response: Thought: 你好，请问有什么我可以帮助你的吗？\n",
      "\n",
      "Question:  请介绍一下华为最新款手机\n",
      "=============== LLM输出结果 ===============\n",
      "Thought:  Thought: 很抱歉，由于我是一个语言模型，我无法获取到2023年之后的信息，因此我无法为您提供华为最新款手机的信息。\n",
      "========================================\n",
      "回答格式出错1 Thought: 很抱歉，由于我是一个语言模型，我无法获取到2023年之后的信息，因此我无法为您提供华为最新款手机的信息。\n",
      "1 @@@@@@@@@@@@@@@@@@@@@@@@@@@@@@\n",
      "question: 请介绍一下华为最新款手机\n",
      "response: Thought: 很抱歉，由于我是一个语言模型，我无法获取到2023年之后的信息，因此我无法为您提供华为最新款手机的信息。\n",
      "Action: \n",
      "华为最新款手机是华为Mate 50，它于2022年9月20日正式发布。它采用了6.77英寸的OLED环绕屏，分辨率为2772 x 1224像素，刷新率高达90Hz。它搭载了华为自主研发的麒麟9000处理器，配备了一套由5000万像素主摄、2000万像素超广角和1200万像素长焦组成的四摄像头系统。此外，它还支持5G网络和华为鸿蒙操作系统。\n",
      "\n",
      "Question:  \n",
      "=============== LLM输出结果 ===============\n",
      "Thought:  Thought: 您好，请问有什么我可以帮助您的吗？\n",
      "========================================\n",
      "回答格式出错1 Thought: 您好，请问有什么我可以帮助您的吗？\n",
      "2 @@@@@@@@@@@@@@@@@@@@@@@@@@@@@@\n",
      "question: \n",
      "response: 您好，有什么我可以帮助您的吗？\n",
      "\n",
      "Question:  \n",
      "=============== LLM输出结果 ===============\n",
      "Thought:  Thought: 您好，请问有什么我可以帮助您的吗？\n",
      "========================================\n",
      "回答格式出错1 Thought: 您好，请问有什么我可以帮助您的吗？\n",
      "3 @@@@@@@@@@@@@@@@@@@@@@@@@@@@@@\n",
      "question: \n",
      "response: 您好，请问有什么我可以帮助您的吗？\n",
      "\n",
      "Question:  \n",
      "=============== LLM输出结果 ===============\n",
      "Thought:  Thought: 您好，请问有什么我可以帮助您的吗？\n",
      "========================================\n",
      "回答格式出错1 Thought: 您好，请问有什么我可以帮助您的吗？\n",
      "4 @@@@@@@@@@@@@@@@@@@@@@@@@@@@@@\n",
      "question: \n",
      "response: 您好，请问有什么我可以帮助您的吗？\n",
      "\n"
     ]
    }
   ],
   "source": [
    "# h = [{'role':'system', 'content':prompt_ch}]\n",
    "h = []\n",
    "for i in range(5):\n",
    "    q = input()\n",
    "    r, h = webthink_multi_rounds_single_agent(q, h)\n",
    "    print(i, \"@\"*30)\n",
    "    print(f\"question: {q}\\nresponse: {r}\\n\")"
   ]
  },
  {
   "cell_type": "code",
   "execution_count": 47,
   "metadata": {},
   "outputs": [
    {
     "name": "stdout",
     "output_type": "stream",
     "text": [
      "{'role': 'system', 'content': '使用多轮的<Thought, Action, Observation>的步骤范式来回答之后的问题。Thought进行推理分析为了完成任务你需要执行的操作，以及是否已经可以完成任务；Action提炼你需要执行的操作，他有三种模式：\\n(1) 搜索[关键词]：从网络上搜索关键词并且返回第一个搜索结果的内容；\\n(2) 查找[关键词]：从网络上搜索关键词并且返回第一个搜索结果的内容；\\n(3) 完成[最终回答]：生成最终的回答。\\n下面是一些例子：\\n\\n例1：\\nQuestion: 科罗拉多造山带东段延伸到的地区的海拔范围是多少？\\nThoughts: 我需要搜索科罗拉多造山带，找到科罗拉多造山带东段延伸到的区域，然后找到该区域的海拔范围。\\nAction: 搜索[科罗拉多造山运动]\\nObservation: 科罗拉多造山运动是科罗拉多州及其周边地区造山运动的一个阶段。\\nThoughts: 它没有提到东部地区。所以我需要看看东部地区。\\nAction: 查找[东区]\\nObservation: （结果1/1）东段延伸到高平原，称为中原造山运动。\\nThoughts: 科罗拉多造山运动的东部延伸到高平原。所以我需要搜索高平原，找到它的海拔范围。\\nAction: 搜索[高地]\\nObservation: 高平原是指两个不同的陆地区域之一: \\nThoughts: 我需要搜索高平原（美国）。\\nAction: 搜索[高平原（美国）]\\nObservation: 高平原是大平原的一个子区域。从东到西，高平原的海拔从1800到7000英尺（550到2130米）。[3]\\nThoughts: 高平原的海拔从1800英尺到7000英尺左右，所以答案是1800到7000英尺。\\nAction: 完成[1800至7000英尺]\\n\\n例2：\\nQuestion: 音乐家兼讽刺作家Allie Goertz写了一首关于《辛普森一家》中角色Milhouse的歌，Matt Groening以谁的名字命名了Milhouse？\\nThoughts: 这个Question简化为《辛普森一家》中的角色米尔豪斯是以谁的名字命名的。我只需要搜索米尔豪斯并找到它的名字。\\nAction: 搜索[Milhouse]\\nObservation: 米尔豪斯·墨索里尼·范·豪滕是福克斯动画电视剧《辛普森一家》中的一个反复出现的角色，由帕梅拉·海登配音，马特·格罗宁创作。\\nThoughts: 这段话没有告诉米尔豪斯是以谁的名字命名的，也许我可以查一下“以谁的名义命名”。\\nAction: 查找[命名]\\nObservation: （结果1/1）米尔豪斯是以美国总统理查德·尼克松的名字命名的，他的中间名是米尔豪斯。\\nThoughts: 米尔豪斯是以美国总统理查德·尼克松的名字命名的，所以答案是理查德·尼克松。\\nAction: 完成[理查德·尼克松]\\n\\n例3：\\nQuestion: 哪部纪录片是关于芬兰摇滚团体的，Adam Clayton Powell还是The Saimaa Gesture？\\nThoughts: 我需要搜索Adam Clayton Powell和The Saimaa Gesture，找到哪部纪录片是关于芬兰摇滚团体的。\\nAction: 搜索[Adam Clayton Powell]\\nObservation: 找不到[Adam Clayton Powell]。类似: [《亚当·克莱顿·鲍威尔三世》、《第七大道（曼哈顿）》、《小亚当·克莱顿·鲍威尔国家办公楼》、《伊莎贝尔·华盛顿·鲍威尔》、《亚当·鲍威尔》、“亚当·克莱顿·鲍威尔（电影）”、《吉安卡洛·埃斯波西托》]。\\nThoughts: 要找到纪录片，我可以搜索Adam Clayton Powell（电影）。\\nAction: 搜索[Adam Clayton Powell（电影）]\\nObservation: 亚当·克莱顿·鲍威尔是一部1989年的美国纪录片，由理查德·基尔伯格执导。这部电影讲述了有影响力的非裔美国政治家小亚当·克莱顿·鲍威尔的兴衰。[3][4]后来作为PBS电视剧《美国经历》的一部分播出。\\nThoughts: Adam Clayton Powell（电影）是一部关于非裔美国政治家的纪录片，而不是芬兰摇滚团体。因此，关于芬兰摇滚团体的纪录片必须是The Saimaa Gesture。\\nAction: 完成[The Saimaa Gesture]\\n\\n上面是一些例子，下面的回答中，一定不要涉及其中的具体内容，只要效仿上面的格式和思考方法。\\n注意：每次回答只需要输出一条Thought信息和一条Action信息，当你觉得内容够生成输出了，就做个总结，并且在Action中使用标识符“完成”。\\n\\n'}\n",
      "{'role': 'user', 'content': '你好Thought: '}\n",
      "{'role': 'user', 'content': '你好Thought: 你好，请问有什么我可以帮助你的吗？\\nAction: '}\n",
      "{'role': 'assistant', 'metadata': '', 'content': '抱歉，我需要一个明确的提问或者任务来完成Action。'}\n",
      "{'role': 'observation', 'content': 'Action。'}\n",
      "{'role': 'user', 'content': '只使用llm思考这个问题的答案是：'}\n",
      "{'role': 'assistant', 'metadata': '', 'content': '你好👋！我是人工智能助手 ChatGLM3-6B，很高兴见到你，欢迎问我任何问题。'}\n",
      "{'role': 'user', 'content': '总结上面搜索到的内容和llm思考的内容，回答问题： 你好'}\n",
      "{'role': 'assistant', 'metadata': '', 'content': '你好👋！我是人工智能助手 ChatGLM3-6B，很高兴见到你，欢迎问我任何问题。'}\n",
      "{'role': 'user', 'content': '请介绍一下华为最新款的手机Thought: '}\n",
      "{'role': 'user', 'content': '请介绍一下华为最新款的手机Thought: 抱歉，由于我是一个语言模型，我无法获取到华为最新款手机的信息。我的知识截止于 2023，因此我无法提供关于 2023 年之后的信息。建议您查看华为官方网站或者相关新闻报道来获取最新信息。\\nAction: '}\n",
      "{'role': 'user', 'content': '请介绍一下华为最新款的手机'}\n",
      "{'role': 'assistant', 'metadata': '', 'content': '抱歉，由于我是一个语言模型，我无法获取到华为最新款手机的信息。我的知识截止于 2023，因此我无法提供关于 2023 年之后的信息。建议您查看华为官方网站或者相关新闻报道来获取最新信息。'}\n",
      "{'role': 'user', 'content': '你可以使用搜索引擎Thought: '}\n",
      "{'role': 'assistant', 'metadata': '', 'content': '好的，我可以使用搜索引擎来获取华为最新款手机的信息。\\nAction: 搜索[华为最新款手机]'}\n",
      "{'role': 'observation', 'content': 'HUAWEI Mate 60 Pro 了解更多 购买 最新 HUAWEI Mate 60 Pro+ 双卫星通信 超可靠玄武架构 了解更多 购买 最新 HUAWEI Mate X5 超轻薄全能折叠 玄武钢化昆仑玻璃 ￥12999 起 了解更多 购买 最新 HUAWEI Mate 60 RS 非凡大师 双卫星通信 玄武钢化昆仑玻璃 了解更多 购买 最新 HUAWEI Mate 60 双向北斗卫星消息 超可靠玄武架构 了解更多 购买 P 系列 超可靠昆仑玻璃 超聚光夜视长焦 双向北斗卫星消息，超强灵犀通信'}\n",
      "{'role': 'user', 'content': '只使用llm思考这个问题的答案是：'}\n",
      "{'role': 'assistant', 'metadata': '', 'content': '作为人工智能助手，我确实可以使用搜索引擎来获取信息。但是，请注意，我更擅长回答与我所训练的领域相关的问题。如果您的问题涉及到实时信息、个人观点或涉及道德伦理等方面，我的回答可能不如专业人士准确。请随时向我提问，我会尽我所能帮助您。'}\n",
      "{'role': 'user', 'content': '总结上面搜索到的内容和llm思考的内容，回答问题： 你可以使用搜索引擎'}\n",
      "{'role': 'assistant', 'metadata': '', 'content': '作为人工智能助手，我可以使用搜索引擎来获取信息。'}\n",
      "{'role': 'user', 'content': '可以给我提供一些购买渠道吗Thought: '}\n",
      "{'role': 'user', 'content': '可以给我提供一些购买渠道吗Thought: 当然可以，请问您想购买哪款华为手机？我可以为您提供官方的购买渠道。\\nAction: '}\n",
      "{'role': 'user', 'content': '可以给我提供一些购买渠道吗'}\n",
      "{'role': 'assistant', 'metadata': '', 'content': '当然可以。以下是一些官方的购买渠道：\\n\\n1. 华为官方网站：您可以访问华为官方网站（https://www.huawei.com/）来查看各种华为手机型号，并选择您想购买的产品。\\n\\n2. 华为授权经销商：您可以联系华为授权经销商，了解最新款手机的销售情况，并购买您喜欢的产品。\\n\\n3. 电商平台：您还可以在各大电商平台（如华为商城、天猫、京东等）上购买华为手机。\\n\\n请根据您的需求和喜好选择合适的购买渠道。如果您需要进一步的帮助，请随时告诉我。'}\n",
      "{'role': 'user', 'content': '使用搜索引擎看看？Thought: '}\n",
      "{'role': 'assistant', 'metadata': '', 'content': '好的，我可以使用搜索引擎来查找购买华为手机的渠道。\\nAction: 搜索[华为手机购买渠道]'}\n",
      "{'role': 'observation', 'content': '下面是京东自营华为官方旗舰店的购买卡片，可以直接点击进去选购： 广告 华为 HUAWEI Mate 40E 麒麟990E 5G SoC芯片 超感知徕 京东 ¥4599.00 去购买 广告 华为 HUAWEI P40 麒麟990 5G SoC芯片 5000万超感知徕 京东 ¥4988.00'}\n",
      "{'role': 'user', 'content': '只使用llm思考这个问题的答案是：'}\n",
      "{'role': 'assistant', 'metadata': '', 'content': '很抱歉,我是一个语言模型,无法直接使用搜索引擎。但是,如果您有任何问题或需要信息,我可以尽力回答您的问题或提供相关的信息。请告诉我您需要了解什么,我会尽力帮助您。'}\n",
      "{'role': 'user', 'content': '总结上面搜索到的内容和llm思考的内容，回答问题： 使用搜索引擎看看？'}\n",
      "{'role': 'assistant', 'metadata': '', 'content': '好的，我可以使用搜索引擎来查找购买华为手机的渠道。\\nAction: 搜索[华为手机购买渠道]'}\n"
     ]
    },
    {
     "data": {
      "text/plain": [
       "[None,\n",
       " None,\n",
       " None,\n",
       " None,\n",
       " None,\n",
       " None,\n",
       " None,\n",
       " None,\n",
       " None,\n",
       " None,\n",
       " None,\n",
       " None,\n",
       " None,\n",
       " None,\n",
       " None,\n",
       " None,\n",
       " None,\n",
       " None,\n",
       " None,\n",
       " None,\n",
       " None,\n",
       " None,\n",
       " None,\n",
       " None,\n",
       " None,\n",
       " None,\n",
       " None,\n",
       " None,\n",
       " None,\n",
       " None,\n",
       " None]"
      ]
     },
     "execution_count": 47,
     "metadata": {},
     "output_type": "execute_result"
    }
   ],
   "source": [
    "[print(i) for i in h]"
   ]
  },
  {
   "cell_type": "code",
   "execution_count": 6,
   "metadata": {},
   "outputs": [
    {
     "ename": "SyntaxError",
     "evalue": "invalid syntax (4264216756.py, line 4)",
     "output_type": "error",
     "traceback": [
      "\u001b[0;36m  Cell \u001b[0;32mIn[6], line 4\u001b[0;36m\u001b[0m\n\u001b[0;31m    r, h = webthink_multi_rounds_single_agent(q, h):\u001b[0m\n\u001b[0m                                                   ^\u001b[0m\n\u001b[0;31mSyntaxError\u001b[0m\u001b[0;31m:\u001b[0m invalid syntax\n"
     ]
    }
   ],
   "source": [
    "h = []\n",
    "for i in range(5):\n",
    "    q = input()\n",
    "    r, h = webthink_multi_rounds_single_agent(q, h):\n",
    "    print(i, \"=\"*30)\n",
    "    print(f\"question: {q}\\nresponse: {r}\\n\")"
   ]
  },
  {
   "cell_type": "code",
   "execution_count": 93,
   "metadata": {},
   "outputs": [
    {
     "name": "stdout",
     "output_type": "stream",
     "text": [
      "Thought 4: Schaal has worked in several films and television series throughout her career, including Innerspace, The 'Burbs, and Creature, and has provided voiceover services for American Dad!\n",
      "\n",
      "Action 1: 搜索[Wendy Schaal的电影作品]\n"
     ]
    }
   ],
   "source": [
    "search_result = \"Observation 2: Wendy Schaal (born July 2, 1954)[1] is an American actress known for her work in Joe Dante films such as Innerspace, The 'Burbs, and Small Soldiers. Her other film credits include starring in films such as Where the Boys Are '84, Creature, Going Under, and Munchies. She had many guest roles in television series of the mid-1980s, most notably as Marilyn Kelsy in Airwolf. Since 2005 she has primarily worked in voice acting, most notably voicing Francine Smith in the animated comedy television series American Dad!. Schaal was born in Chicago, Illinois, the daughter of Lois Schaal (née Treacy) and actor Richard Schaal.[1] Schaal's father was married to actress Valerie Harper from 1964 to 1978, during which time Harper was her stepmother.[2] From birth until she was five, Schaal lived with her parents in Crete, Illinois, at which time she moved with her mother to Newport Beach, California after her parents divorced.[3] Schaal studied acting with Viola Spolin in Chicago when she was nine years old, later moving to Wisconsin and then California when she was 11.\\n\\nThought 3: \"\n",
    "response, history = model.chat(tokenizer, search_result, history=history)\n",
    "print(response)"
   ]
  },
  {
   "cell_type": "code",
   "execution_count": 11,
   "metadata": {},
   "outputs": [
    {
     "data": {
      "text/plain": [
       "[{'role': 'user',\n",
       "  'content': 'Solve a question answering task with interleaving Thought, Action, Observation steps. Thought can reason about the current situation, and Action can be three types: \\n(1) Search[entity], which searches the exact entity on Wikipedia and returns the first paragraph if it exists. If not, it will return some similar entities to search.\\n(2) Lookup[keyword], which returns the next sentence containing keyword in the current passage.\\n(3) Finish[answer], which returns the answer and finishes the task.\\nHere are some examples.\\nQuestion: What is the elevation range for the area that the eastern sector of the Colorado orogeny extends into?\\nThought 1: I need to search Colorado orogeny, find the area that the eastern sector of the Colorado orogeny extends into, then find the elevation range of the area.\\nAction 1: Search[Colorado orogeny]\\nObservation 1: The Colorado orogeny was an episode of mountain building (an orogeny) in Colorado and surrounding areas.\\nThought 2: It does not mention the eastern sector. So I need to look up eastern sector.\\nAction 2: Lookup[eastern sector]\\nObservation 2: (Result 1 / 1) The eastern sector extends into the High Plains and is called the Central Plains orogeny.\\nThought 3: The eastern sector of Colorado orogeny extends into the High Plains. So I need to search High Plains and find its elevation range.\\nAction 3: Search[High Plains]\\nObservation 3: High Plains refers to one of two distinct land regions:\\nThought 4: I need to instead search High Plains (United States).\\nAction 4: Search[High Plains (United States)]\\nObservation 4: The High Plains are a subregion of the Great Plains. From east to west, the High Plains rise in elevation from around 1,800 to 7,000 ft (550 to 2,130 m).[3]\\nThought 5: High Plains rise in elevation from around 1,800 to 7,000 ft, so the answer is 1,800 to 7,000 ft.\\nAction 5: Finish[1,800 to 7,000 ft] Musician and satirist Allie Goertz wrote a song about the \"The Simpsons\" character Milhouse, who Matt Groening named after who?\\nThought 1: The question simplifies to \"The Simpsons\" character Milhouse is named after who. I only need to search Milhouse and find who it is named after.\\nAction 1: Search[Milhouse]\\nObservation 1: Milhouse Mussolini Van Houten is a recurring character in the Fox animated television series The Simpsons voiced by Pamela Hayden and created by Matt Groening.\\nThought 2: The paragraph does not tell who Milhouse is named after, maybe I can look up \"named after\".\\nAction 2: Lookup[named after]\\nObservation 2: (Result 1 / 1) Milhouse was named after U.S. president Richard Nixon, whose middle name was Milhous. \\nThought 3: Milhouse was named after U.S. president Richard Nixon, so the answer is Richard Nixon.\\nAction 3: Finish[Richard Nixon] Which documentary is about Finnish rock groups, Adam Clayton Powell or The Saimaa Gesture?\\nThought 1: I need to search Adam Clayton Powell and The Saimaa Gesture, and find which documentary is about Finnish rock groups.\\nAction 1: Search[Adam Clayton Powell]\\nObservation 1: Could not find [Adam Clayton Powell]. Similar: [\\'Adam Clayton Powell III\\', \\'Seventh Avenue (Manhattan)\\', \\'Adam Clayton Powell Jr. State Office Building\\', \\'Isabel Washington Powell\\', \\'Adam Powell\\', \\'Adam Clayton Powell (film)\\', \\'Giancarlo Esposito\\'].\\nThought 2: To find the documentary, I can search Adam Clayton Powell (film).\\nAction 2: Search[Adam Clayton Powell (film)]\\nObservation 2: Adam Clayton Powell is a 1989 American documentary film directed by Richard Kilberg.\\nThe film is about the rise and fall of influential African-American politician Adam Clayton Powell Jr.[3][4] It was later aired as part of the PBS series The American Experience.\\nThought 3: Adam Clayton Powell (film) is a documentary about an African-American politician, not Finnish rock groups. So the documentary about Finnish rock groups must instead be The Saimaa Gesture.\\nAction 3: Finish[The Saimaa Gesture]Who created the show with Wendy Schaal doing the voice of Francine?\\nThought 1: '},\n",
       " {'role': 'assistant',\n",
       "  'metadata': '',\n",
       "  'content': 'I need to search for the show with Wendy Schaal doing the voice of Francine.\\nAction 1: Search[Wendy Schaal Francine voice]'},\n",
       " {'role': 'user',\n",
       "  'content': \"Observation 1: Wendy Schaal (born July 2, 1954)[1] is an American actress known for her work in Joe Dante films such as Innerspace, The 'Burbs, and Small Soldiers. Her other film credits include starring in films such as Where the Boys Are '84, Creature, Going Under, and Munchies. She had many guest roles in television series of the mid-1980s, most notably as Marilyn Kelsy in Airwolf. Since 2005 she has primarily worked in voice acting, most notably voicing Francine Smith in the animated comedy television series American Dad!. Schaal was born in Chicago, Illinois, the daughter of Lois Schaal (née Treacy) and actor Richard Schaal.[1] Schaal's father was married to actress Valerie Harper from 1964 to 1978, during which time Harper was her stepmother.[2] From birth until she was five, Schaal lived with her parents in Crete, Illinois, at which time she moved with her mother to Newport Beach, California after her parents divorced.[3] Schaal studied acting with Viola Spolin in Chicago when she was nine years old, later moving to Wisconsin and then California when she was 11.\\n\\nThought 2: \"},\n",
       " {'role': 'assistant',\n",
       "  'metadata': '',\n",
       "  'content': 'I have found the information about Wendy Schaal, but not the show with Wendy Schaal doing the voice of Francine. I might need to look for that information elsewhere.\\nAction 1: Search[Wendy Schaal show]'},\n",
       " {'role': 'user',\n",
       "  'content': \"Observation 2: Wendy Schaal (born July 2, 1954)[1] is an American actress known for her work in Joe Dante films such as Innerspace, The 'Burbs, and Small Soldiers. Her other film credits include starring in films such as Where the Boys Are '84, Creature, Going Under, and Munchies. She had many guest roles in television series of the mid-1980s, most notably as Marilyn Kelsy in Airwolf. Since 2005 she has primarily worked in voice acting, most notably voicing Francine Smith in the animated comedy television series American Dad!. Schaal was born in Chicago, Illinois, the daughter of Lois Schaal (née Treacy) and actor Richard Schaal.[1] Schaal's father was married to actress Valerie Harper from 1964 to 1978, during which time Harper was her stepmother.[2] From birth until she was five, Schaal lived with her parents in Crete, Illinois, at which time she moved with her mother to Newport Beach, California after her parents divorced.[3] Schaal studied acting with Viola Spolin in Chicago when she was nine years old, later moving to Wisconsin and then California when she was 11.\\n\\nThought 3: \"},\n",
       " {'role': 'assistant',\n",
       "  'metadata': '',\n",
       "  'content': \"I have Schaal's information, but still need to find out which show she did the voice for Francine. I will check the animation shows section as voice acting is a common role in those.\\nAction 1: Search[animation shows section]\"}]"
      ]
     },
     "execution_count": 11,
     "metadata": {},
     "output_type": "execute_result"
    }
   ],
   "source": [
    "history"
   ]
  },
  {
   "cell_type": "code",
   "execution_count": 4,
   "metadata": {},
   "outputs": [
    {
     "data": {
      "text/plain": [
       "7744"
      ]
     },
     "execution_count": 4,
     "metadata": {},
     "output_type": "execute_result"
    }
   ],
   "source": [
    "search_result = \"Observation 1: Wendy Schaal (born July 2, 1954)[1] is an American actress known for her work in Joe Dante films such as Innerspace, The 'Burbs, and Small Soldiers. Her other film credits include starring in films such as Where the Boys Are '84, Creature, Going Under, and Munchies. She had many guest roles in television series of the mid-1980s, most notably as Marilyn Kelsy in Airwolf. Since 2005 she has primarily worked in voice acting, most notably voicing Francine Smith in the animated comedy television series American Dad!. Schaal was born in Chicago, Illinois, the daughter of Lois Schaal (née Treacy) and actor Richard Schaal.[1] Schaal's father was married to actress Valerie Harper from 1964 to 1978, during which time Harper was her stepmother.[2] From birth until she was five, Schaal lived with her parents in Crete, Illinois, at which time she moved with her mother to Newport Beach, California after her parents divorced.[3] Schaal studied acting with Viola Spolin in Chicago when she was nine years old, later moving to Wisconsin and then California when she was 11.\\n\\nThought 2: \"\n",
    "input = webthink_prompt + query + \"\\nThought 2: \" + response + search_result\n",
    "len(input)"
   ]
  },
  {
   "cell_type": "code",
   "execution_count": 2,
   "metadata": {},
   "outputs": [
    {
     "name": "stdout",
     "output_type": "stream",
     "text": [
      "抱歉，作为一个基于文本的人工智能助手，我无法实时获取北京海淀区的空气质量信息。您可以访问天气网站或使用手机应用来获取实时空气质量数据。\n"
     ]
    }
   ],
   "source": [
    "response, history = model.chat(tokenizer, \"北京海淀区今天的空气质量怎么样\", history=history)\n",
    "print(response)"
   ]
  },
  {
   "cell_type": "code",
   "execution_count": 1,
   "metadata": {},
   "outputs": [
    {
     "data": {
      "image/png": "[encoded data removed]",
      "text/plain": [
       "<Figure size 800x600 with 1 Axes>"
      ]
     },
     "metadata": {},
     "output_type": "display_data"
    }
   ],
   "source": [
    "import matplotlib.pyplot as plt\n",
    "import numpy as np\n",
    "\n",
    "# 参数方程\n",
    "def leaf_curve(t):\n",
    "    x = 4 * np.sin(t)**3\n",
    "    y = 2 * np.cos(t) - 3 * np.cos(2*t) - 4 * np.cos(3*t) - 5 * np.cos(4*t)\n",
    "    return x, y\n",
    "\n",
    "# 生成t值列表\n",
    "t_values = np.linspace(0, 2 * np.pi, 1000)\n",
    "\n",
    "# 绘制四叶草形状\n",
    "plt.figure(figsize=(8, 6))\n",
    "plt.scatter(leaf_curve(t_values), leaf_curve(t_values), color='green', s=100)\n",
    "\n",
    "plt.axis('equal')  # 确保图形在不同的方向上都有相同的刻度间隔\n",
    "plt.show()"
   ]
  }
 ],
 "metadata": {
  "kernelspec": {
   "display_name": "glm3",
   "language": "python",
   "name": "python3"
  },
  "language_info": {
   "codemirror_mode": {
    "name": "ipython",
    "version": 3
   },
   "file_extension": ".py",
   "mimetype": "text/x-python",
   "name": "python",
   "nbconvert_exporter": "python",
   "pygments_lexer": "ipython3",
   "version": "3.10.13"
  }
 },
 "nbformat": 4,
 "nbformat_minor": 2
}
